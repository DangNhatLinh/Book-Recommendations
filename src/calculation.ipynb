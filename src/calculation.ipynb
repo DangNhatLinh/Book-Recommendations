{
 "cells": [
  {
   "cell_type": "code",
   "execution_count": 25,
   "id": "e01f4dfc-bba0-424c-b409-6d5bfa12484d",
   "metadata": {},
   "outputs": [],
   "source": [
    "import numpy as np, pandas as pd\n",
    "from collections import Counter\n",
    "%run ./parsing.ipynb"
   ]
  },
  {
   "cell_type": "code",
   "execution_count": 39,
   "id": "be9b434b-9e5a-41a9-90f5-f1e9c36473b0",
   "metadata": {},
   "outputs": [],
   "source": [
    "# vectorization = TF only\n",
    "\n",
    "rows = [(doc, term, count)\n",
    "        for doc, toks in tokens_per_book.items()\n",
    "        for term, count in Counter(toks).items()]\n",
    "counts = pd.DataFrame(rows, columns=[\"doc\",\"term\",\"count\"])\n",
    "\n",
    "tf = counts.pivot_table(index=\"doc\", columns=\"term\", values=\"count\", fill_value=0)\n",
    "tf = tf.div(tf.sum(axis=1).replace(0, 1), axis=0)\n",
    "tf.index.name = None\n",
    "tfidf.index.name = None"
   ]
  },
  {
   "cell_type": "code",
   "execution_count": 49,
   "id": "fe2fad95-3820-4233-9198-fc13a36a0216",
   "metadata": {},
   "outputs": [
    {
     "data": {
      "text/html": [
       "<div>\n",
       "<style scoped>\n",
       "    .dataframe tbody tr th:only-of-type {\n",
       "        vertical-align: middle;\n",
       "    }\n",
       "\n",
       "    .dataframe tbody tr th {\n",
       "        vertical-align: top;\n",
       "    }\n",
       "\n",
       "    .dataframe thead th {\n",
       "        text-align: right;\n",
       "    }\n",
       "</style>\n",
       "<table border=\"1\" class=\"dataframe\">\n",
       "  <thead>\n",
       "    <tr style=\"text-align: right;\">\n",
       "      <th></th>\n",
       "      <th>doc</th>\n",
       "      <th>term</th>\n",
       "      <th>count</th>\n",
       "    </tr>\n",
       "  </thead>\n",
       "  <tbody>\n",
       "    <tr>\n",
       "      <th>0</th>\n",
       "      <td>Moby Dick; Or, The Whale</td>\n",
       "      <td>pictures</td>\n",
       "      <td>11</td>\n",
       "    </tr>\n",
       "    <tr>\n",
       "      <th>1</th>\n",
       "      <td>Moby Dick; Or, The Whale</td>\n",
       "      <td>of</td>\n",
       "      <td>4643</td>\n",
       "    </tr>\n",
       "    <tr>\n",
       "      <th>2</th>\n",
       "      <td>Moby Dick; Or, The Whale</td>\n",
       "      <td>whaling</td>\n",
       "      <td>101</td>\n",
       "    </tr>\n",
       "    <tr>\n",
       "      <th>3</th>\n",
       "      <td>Moby Dick; Or, The Whale</td>\n",
       "      <td>scenes</td>\n",
       "      <td>10</td>\n",
       "    </tr>\n",
       "    <tr>\n",
       "      <th>4</th>\n",
       "      <td>Moby Dick; Or, The Whale</td>\n",
       "      <td>stone</td>\n",
       "      <td>16</td>\n",
       "    </tr>\n",
       "    <tr>\n",
       "      <th>...</th>\n",
       "      <td>...</td>\n",
       "      <td>...</td>\n",
       "      <td>...</td>\n",
       "    </tr>\n",
       "    <tr>\n",
       "      <th>66715</th>\n",
       "      <td>Little Women; Or, Meg, Jo, Beth, and Amy</td>\n",
       "      <td>listings</td>\n",
       "      <td>1</td>\n",
       "    </tr>\n",
       "    <tr>\n",
       "      <th>66716</th>\n",
       "      <td>Little Women; Or, Meg, Jo, Beth, and Amy</td>\n",
       "      <td>flora</td>\n",
       "      <td>1</td>\n",
       "    </tr>\n",
       "    <tr>\n",
       "      <th>66717</th>\n",
       "      <td>Little Women; Or, Meg, Jo, Beth, and Amy</td>\n",
       "      <td>fairfield</td>\n",
       "      <td>1</td>\n",
       "    </tr>\n",
       "    <tr>\n",
       "      <th>66718</th>\n",
       "      <td>Little Women; Or, Meg, Jo, Beth, and Amy</td>\n",
       "      <td>barnard</td>\n",
       "      <td>1</td>\n",
       "    </tr>\n",
       "    <tr>\n",
       "      <th>66719</th>\n",
       "      <td>Little Women; Or, Meg, Jo, Beth, and Amy</td>\n",
       "      <td>item</td>\n",
       "      <td>1</td>\n",
       "    </tr>\n",
       "  </tbody>\n",
       "</table>\n",
       "<p>66720 rows × 3 columns</p>\n",
       "</div>"
      ],
      "text/plain": [
       "                                            doc       term  count\n",
       "0                      Moby Dick; Or, The Whale   pictures     11\n",
       "1                      Moby Dick; Or, The Whale         of   4643\n",
       "2                      Moby Dick; Or, The Whale    whaling    101\n",
       "3                      Moby Dick; Or, The Whale     scenes     10\n",
       "4                      Moby Dick; Or, The Whale      stone     16\n",
       "...                                         ...        ...    ...\n",
       "66715  Little Women; Or, Meg, Jo, Beth, and Amy   listings      1\n",
       "66716  Little Women; Or, Meg, Jo, Beth, and Amy      flora      1\n",
       "66717  Little Women; Or, Meg, Jo, Beth, and Amy  fairfield      1\n",
       "66718  Little Women; Or, Meg, Jo, Beth, and Amy    barnard      1\n",
       "66719  Little Women; Or, Meg, Jo, Beth, and Amy       item      1\n",
       "\n",
       "[66720 rows x 3 columns]"
      ]
     },
     "execution_count": 49,
     "metadata": {},
     "output_type": "execute_result"
    }
   ],
   "source": [
    "counts"
   ]
  },
  {
   "cell_type": "markdown",
   "id": "3f343596-09b5-42db-b210-b88c39a7b64b",
   "metadata": {},
   "source": [
    "each term counts for each book"
   ]
  },
  {
   "cell_type": "code",
   "execution_count": 59,
   "id": "480e1d9a-e794-49fb-9b10-84bad0d7e911",
   "metadata": {},
   "outputs": [
    {
     "name": "stdout",
     "output_type": "stream",
     "text": [
      "\n",
      "Alice's Adventures in Wonderland — top TF terms\n",
      "the        0.06132\n",
      "and        0.03221\n",
      "to         0.02906\n",
      "a          0.02379\n",
      "it         0.02147\n",
      "\n",
      "Beowulf- An Anglo-Saxon Epic Poem — top TF terms\n",
      "the        0.08073\n",
      "of         0.04219\n",
      "to         0.02687\n",
      "and        0.02035\n",
      "in         0.01765\n",
      "\n",
      "Dracula — top TF terms\n",
      "the        0.05130\n",
      "and        0.03615\n",
      "i          0.02947\n",
      "to         0.02940\n",
      "of         0.02361\n",
      "\n",
      "Frankenstein; Or, The Modern Prometheus — top TF terms\n",
      "the        0.05850\n",
      "and        0.04014\n",
      "i          0.03806\n",
      "of         0.03648\n",
      "to         0.02817\n",
      "\n",
      "Grimms' Fairy Tales — top TF terms\n",
      "the        0.07139\n",
      "and        0.05469\n",
      "to         0.02775\n",
      "he         0.02172\n",
      "a          0.02000\n",
      "\n",
      "Little Women; Or, Meg, Jo, Beth, and Amy — top TF terms\n",
      "the        0.04760\n",
      "and        0.04340\n",
      "to         0.02895\n",
      "a          0.02629\n",
      "of         0.02109\n",
      "\n",
      "Moby Dick; Or, The Whale — top TF terms\n",
      "the        0.06940\n",
      "of         0.03140\n",
      "and        0.02896\n",
      "a          0.02224\n",
      "to         0.02174\n",
      "\n",
      "Nora's twin sister — top TF terms\n",
      "the        0.03543\n",
      "to         0.03162\n",
      "and        0.03064\n",
      "i          0.02895\n",
      "she        0.02309\n",
      "\n",
      "Pride and Prejudice — top TF terms\n",
      "the        0.03825\n",
      "to         0.03474\n",
      "of         0.03167\n",
      "and        0.02875\n",
      "her        0.01877\n",
      "\n",
      "Sense and Sensibility — top TF terms\n",
      "the        0.03538\n",
      "to         0.03513\n",
      "of         0.03129\n",
      "and        0.02863\n",
      "her        0.02238\n",
      "\n",
      "Wuthering Heights — top TF terms\n",
      "the        0.04112\n",
      "and        0.04072\n",
      "i          0.03191\n",
      "to         0.03104\n",
      "a          0.02086\n"
     ]
    }
   ],
   "source": [
    "# show top 5 TF only terms for every doc\n",
    "for doc in tf.index:\n",
    "    s = tf.loc[doc].nlargest(5)\n",
    "    print(f\"\\n{doc} — top TF terms\")\n",
    "    for term, val in s.items():\n",
    "        print(f\"{term:10s} {val:.5f}\")"
   ]
  },
  {
   "cell_type": "markdown",
   "id": "3ced8896-bd5d-4a89-93ed-5fefdd83f731",
   "metadata": {},
   "source": [
    "Most of the TF terms are common words in english that serve no meaning such as \"the\", \"a\", etc"
   ]
  },
  {
   "cell_type": "code",
   "execution_count": 16,
   "id": "fd5e428b-7981-4ff1-93a3-75f82fa0cfcd",
   "metadata": {},
   "outputs": [],
   "source": [
    "# IDF(t) = log(N / (1 + DF(t)))\n",
    "N  = tf.shape[0]\n",
    "df = (tf > 0).sum(axis=0)\n",
    "idf = np.log(N / (1.0 + df))\n",
    "\n",
    "# TF-IDF calc\n",
    "tfidf = tf.mul(idf, axis=1)"
   ]
  },
  {
   "cell_type": "code",
   "execution_count": 58,
   "id": "e20fecfa-0ead-4fa1-8118-169e941f6c0d",
   "metadata": {},
   "outputs": [
    {
     "name": "stdout",
     "output_type": "stream",
     "text": [
      "Top 5 IDF terms:\n",
      "latterly   1.70475\n",
      "meseemeth  1.70475\n",
      "mercies    1.70475\n",
      "merciless  1.70475\n",
      "mercury    1.70475\n",
      "\n",
      "Bottom 5 IDF terms:\n",
      "a          -0.08701\n",
      "led        -0.08701\n",
      "leaving    -0.08701\n",
      "worse      -0.08701\n",
      "leaves     -0.08701\n"
     ]
    }
   ],
   "source": [
    "print(\"Top 5 IDF terms:\") # rarest\n",
    "for term, val in idf.sort_values(ascending=False).head(5).items():\n",
    "    print(f\"{term:10s} {val:.5f}\")\n",
    "\n",
    "print(\"\\nBottom 5 IDF terms:\") #most common\n",
    "for term, val in idf.sort_values(ascending=True).head(5).items():\n",
    "    print(f\"{term:10s} {val:.5f}\")"
   ]
  },
  {
   "cell_type": "markdown",
   "id": "37b30c67-c13b-47f5-8a71-1504ba20db7e",
   "metadata": {},
   "source": [
    "Most of the IDF terms are counted using a metric that puts unique words above and common words at the bottom."
   ]
  },
  {
   "cell_type": "code",
   "execution_count": 57,
   "id": "39bed00e-99e1-4247-b641-33f7e41656ed",
   "metadata": {},
   "outputs": [
    {
     "name": "stdout",
     "output_type": "stream",
     "text": [
      "\n",
      "Alice's Adventures in Wonderland — top TF-IDF terms\n",
      "alice      0.02684\n",
      "gryphon    0.00361\n",
      "hatter     0.00352\n",
      "duchess    0.00262\n",
      "turtle     0.00230\n",
      "\n",
      "Beowulf- An Anglo-Saxon Epic Poem — top TF-IDF terms\n",
      "beowulf    0.01112\n",
      "hrothgar   0.00588\n",
      "grendel    0.00446\n",
      "folk       0.00256\n",
      "higelac    0.00241\n",
      "\n",
      "Dracula — top TF-IDF terms\n",
      "helsing    0.00304\n",
      "mina       0.00277\n",
      "lucy       0.00260\n",
      "jonathan   0.00235\n",
      "van        0.00234\n",
      "\n",
      "Frankenstein; Or, The Modern Prometheus — top TF-IDF terms\n",
      "clerval    0.00150\n",
      "felix      0.00144\n",
      "elizabeth  0.00111\n",
      "justine    0.00109\n",
      "geneva     0.00080\n",
      "\n",
      "Grimms' Fairy Tales — top TF-IDF terms\n",
      "hans       0.00207\n",
      "gretel     0.00193\n",
      "dwarf      0.00130\n",
      "tailor     0.00122\n",
      "princess   0.00094\n",
      "\n",
      "Little Women; Or, Meg, Jo, Beth, and Amy — top TF-IDF terms\n",
      "jo         0.01219\n",
      "meg        0.00627\n",
      "amy        0.00571\n",
      "laurie     0.00517\n",
      "beth       0.00435\n",
      "\n",
      "Moby Dick; Or, The Whale — top TF-IDF terms\n",
      "whale      0.00807\n",
      "ahab       0.00432\n",
      "queequeg   0.00216\n",
      "whales     0.00210\n",
      "stubb      0.00196\n",
      "\n",
      "Nora's twin sister — top TF-IDF terms\n",
      "nora       0.02052\n",
      "kathleen   0.01334\n",
      "sarah      0.00532\n",
      "reggie     0.00440\n",
      "marjorie   0.00244\n",
      "\n",
      "Pride and Prejudice — top TF-IDF terms\n",
      "elizabeth  0.00443\n",
      "jane       0.00409\n",
      "bingley    0.00311\n",
      "darcy      0.00251\n",
      "lydia      0.00230\n",
      "\n",
      "Sense and Sensibility — top TF-IDF terms\n",
      "elinor     0.01085\n",
      "marianne   0.00914\n",
      "edward     0.00231\n",
      "brandon    0.00216\n",
      "lucy       0.00205\n",
      "\n",
      "Wuthering Heights — top TF-IDF terms\n",
      "heathcliff 0.00538\n",
      "linton     0.00443\n",
      "hareton    0.00253\n",
      "catherine  0.00208\n",
      "cathy      0.00201\n"
     ]
    }
   ],
   "source": [
    "for doc in tfidf.index:\n",
    "    s = tfidf.loc[doc].nlargest(5)\n",
    "    print(f\"\\n{doc} — top TF-IDF terms\")\n",
    "    for term, val in s.items():\n",
    "        print(f\"{term:10s} {val:.5f}\")"
   ]
  },
  {
   "cell_type": "markdown",
   "id": "2551ac1f-e29e-41b7-b885-e652019a1d6d",
   "metadata": {},
   "source": [
    "For TF-IDF terms, most of them are very unique and specific, and this includes either first names or repeated words that are relevant to the story (not \"a\", \"the\", etc. tho).\n",
    "\n",
    "Hence, to compare books more efficiently, we compare 2 or more books together, making first names between two or more books irrelevant and unrelatable to each other.\n",
    "\n",
    "Down here, I use unigrams to sort through books, as bigrams and trigrams take a lot of memory and time to sort out."
   ]
  },
  {
   "cell_type": "code",
   "execution_count": 43,
   "id": "62ff6163-70f3-48c8-9275-452a57becee4",
   "metadata": {},
   "outputs": [
    {
     "name": "stdout",
     "output_type": "stream",
     "text": [
      "\n",
      "Top of topic: romance\n",
      "Alice's Adventures in Wonderland            0.000091\n",
      "Beowulf- An Anglo-Saxon Epic Poem           0.000042\n",
      "Sense and Sensibility                       0.000023\n",
      "Little Women; Or, Meg, Jo, Beth, and Amy    0.000021\n",
      "Pride and Prejudice                         0.000018\n",
      "Frankenstein; Or, The Modern Prometheus     0.000008\n",
      "dtype: float64\n",
      "\n",
      "Top of topic: monster\n",
      "Moby Dick; Or, The Whale                   0.000053\n",
      "Beowulf- An Anglo-Saxon Epic Poem          0.000038\n",
      "Frankenstein; Or, The Modern Prometheus    0.000029\n",
      "Grimms' Fairy Tales                        0.000028\n",
      "Dracula                                    0.000019\n",
      "Wuthering Heights                          0.000017\n",
      "dtype: float64\n",
      "\n",
      "Top of topic: sea\n",
      "Moby Dick; Or, The Whale                    0.000426\n",
      "Beowulf- An Anglo-Saxon Epic Poem           0.000029\n",
      "Nora's twin sister                          0.000021\n",
      "Dracula                                     0.000016\n",
      "Frankenstein; Or, The Modern Prometheus     0.000009\n",
      "Little Women; Or, Meg, Jo, Beth, and Amy    0.000002\n",
      "dtype: float64\n",
      "\n",
      "Top of topic: family\n",
      "Beowulf- An Anglo-Saxon Epic Poem           0.000038\n",
      "Pride and Prejudice                         0.000015\n",
      "Little Women; Or, Meg, Jo, Beth, and Amy    0.000011\n",
      "Wuthering Heights                           0.000005\n",
      "Nora's twin sister                          0.000004\n",
      "Frankenstein; Or, The Modern Prometheus     0.000001\n",
      "dtype: float64\n"
     ]
    }
   ],
   "source": [
    "topics = { #demo ONLY\n",
    "    \"romance\": [\"courtship\",\"suitor\",\"betrothal\",\"proposal\",\"engagement\",\"fiancé\",\"fiancée\", \"dowry\",\"estate\",\"heir\",\n",
    "                \"heiress\",\"governess\",\"gentleman\",\"lady\", \"propriety\",\"decorum\",\"reputation\",\"scandal\", \n",
    "                \"duke\",\"duchess\",\"earl\",\"viscount\", \"ballroom\",\"carriage\",\"parlor\",\"drawing-room\",\"letter\",\n",
    "                \"guardian\",\"ward\", \"affection\",\"ardor\",\"devotion\",\"fidelity\",\"virtue\",\"duty\",\"yearning\"],\n",
    "    \"monster\": [\"monster\",\"beast\",\"creature\",\"abomination\",\"wretch\",\"specter\",\"phantom\",\n",
    "                \"shade\",\"ghost\",\"ghoul\",\"demon\",\"devil\",\"daemon\",\"witch\",\"warlock\",\n",
    "                \"vampire\",\"werewolf\",\"lycanthrope\",\"ogre\",\"goblin\",\"harpy\",\"dragon\",\"chimera\",\n",
    "                \"kraken\",\"leviathan\",\"curse\",\"hex\",\"eldritch\",\"uncanny\",\"fang\",\"claw\"],\n",
    "    \"sea\": [\"sea\",\"ocean\",\"tide\",\"wave\",\"brine\",\"gale\",\"squall\",\"tempest\", \"maelstrom\",\"reef\",\n",
    "            \"shoal\",\"harbor\",\"lighthouse\",\"beacon\",\"mariner\",\"captain\", \"ship\",\"deck\",\"mast\",\n",
    "            \"sail\",\"rigging\",\"keel\",\"rudder\",\"helm\", \"cabin\",\"hold\",\"port\",\"starboard\",\"compass\",\"sextant\",\"harpoon\",\"whale\"],\n",
    "    \"family\": [\"father\",\"mother\",\"son\",\"daughter\",\"brother\",\"sister\",\"husband\",\"wife\", \"uncle\",\"aunt\",\n",
    "                \"cousin\",\"niece\",\"nephew\",\"patriarch\",\"matriarch\",\"household\", \"guardian\",\"ward\",\"heir\",\n",
    "                \"heiress\",\"lineage\",\"kin\",\"kinship\",\"bloodline\", \"inheritance\",\"entail\",\"namesake\",\n",
    "                \"orphan\",\"widow\",\"widower\",\"stepfather\",\"stepmother\"]\n",
    "\n",
    "}\n",
    "def topic_scores(tfidf_df, topic_terms):\n",
    "    cols = [t for t in topic_terms if t in tfidf_df.columns]\n",
    "    return tfidf_df[cols].mean(axis=1) if cols else pd.Series(0.0, index=tfidf_df.index)\n",
    "\n",
    "for name, terms in topics.items():\n",
    "    print(f\"\\nTop of topic: {name}\")\n",
    "    print(topic_scores(tfidf, terms).sort_values(ascending=False).head(6))\n"
   ]
  },
  {
   "cell_type": "markdown",
   "id": "9eded0a4-57da-48dc-8e03-a40a72791c9c",
   "metadata": {},
   "source": [
    "We can see that:\n",
    "\n",
    "1. The machine cannot differentiate between synonyms.\n",
    "2. It has a disanvantage against poems, as they have a complicated structure that even confuse human if they do not analyze them correctly (e.g.: Beowulf gets grouped in romance just because the language is poetic and enigmatic.)\n",
    "3. In terms of unique first names, TF-IDF cannot differentiate that, hence they have the highest frequency in every book if we only analyze them alone and not with other books or stopwords."
   ]
  },
  {
   "cell_type": "markdown",
   "id": "438ca6fa-f71a-4c13-891d-438402c6a89f",
   "metadata": {},
   "source": [
    "To find similarity between books, we use a numpy cosine metric and nearest neighbor search"
   ]
  },
  {
   "cell_type": "code",
   "execution_count": 31,
   "id": "c25f9631-38e6-4fec-b14f-c80976a3ed53",
   "metadata": {},
   "outputs": [],
   "source": [
    "A = tfidf.values\n",
    "norms = np.linalg.norm(A, axis=1, keepdims=True)\n",
    "norms[norms == 0] = 1.0\n",
    "S = (A / norms) @ (A / norms).T\n",
    "similarity = pd.DataFrame(S, index=tfidf.index, columns=tfidf.index)\n",
    "\n",
    "def nearest_neighbors(book, k=8):\n",
    "    return similarity.loc[book].drop(index=book).nlargest(k)"
   ]
  },
  {
   "cell_type": "code",
   "execution_count": 69,
   "id": "02279cef-0cae-4880-847e-caa0cb84e2aa",
   "metadata": {},
   "outputs": [],
   "source": [
    "def recommend(book, k=5):\n",
    "    recs = nearest_neighbors(book, k=k)\n",
    "    print(f\"Because you liked: {book}\")\n",
    "\n",
    "    return recs"
   ]
  },
  {
   "cell_type": "code",
   "execution_count": 73,
   "id": "2c8642e1-8fc0-4096-b699-dd5f5aab5cd3",
   "metadata": {},
   "outputs": [
    {
     "name": "stdout",
     "output_type": "stream",
     "text": [
      "Because you liked: Frankenstein; Or, The Modern Prometheus\n"
     ]
    },
    {
     "data": {
      "text/plain": [
       "Grimms' Fairy Tales         0.715644\n",
       "Dracula                     0.683693\n",
       "Pride and Prejudice         0.598731\n",
       "Wuthering Heights           0.586170\n",
       "Moby Dick; Or, The Whale    0.511540\n",
       "Name: Frankenstein; Or, The Modern Prometheus, dtype: float64"
      ]
     },
     "execution_count": 73,
     "metadata": {},
     "output_type": "execute_result"
    }
   ],
   "source": [
    "recommend(\"Frankenstein; Or, The Modern Prometheus\", k=5)"
   ]
  },
  {
   "cell_type": "markdown",
   "id": "2ef9a5f7-d332-438c-b981-e4f7bc364e18",
   "metadata": {},
   "source": [
    "Down here, we will explore the Faiss Nearest Neighbor method mentioned in Chapter 11 of Information Retrieval and\n",
    "Retrieval-Augmented Generation"
   ]
  },
  {
   "cell_type": "code",
   "execution_count": 63,
   "id": "caba1c9e-4319-4edc-9949-4f0b026e4502",
   "metadata": {},
   "outputs": [
    {
     "name": "stdout",
     "output_type": "stream",
     "text": [
      "Collecting faiss-cpu\n",
      "  Downloading faiss_cpu-1.12.0-cp313-cp313-macosx_14_0_arm64.whl.metadata (5.1 kB)\n",
      "Requirement already satisfied: numpy<3.0,>=1.25.0 in /opt/anaconda3/lib/python3.13/site-packages (from faiss-cpu) (2.1.3)\n",
      "Requirement already satisfied: packaging in /opt/anaconda3/lib/python3.13/site-packages (from faiss-cpu) (24.2)\n",
      "Downloading faiss_cpu-1.12.0-cp313-cp313-macosx_14_0_arm64.whl (3.4 MB)\n",
      "\u001b[2K   \u001b[90m━━━━━━━━━━━━━━━━━━━━━━━━━━━━━━━━━━━━━━━━\u001b[0m \u001b[32m3.4/3.4 MB\u001b[0m \u001b[31m8.1 MB/s\u001b[0m eta \u001b[36m0:00:00\u001b[0ma \u001b[36m0:00:01\u001b[0m\n",
      "Installing collected packages: faiss-cpu\n",
      "Successfully installed faiss-cpu-1.12.0\n",
      "Note: you may need to restart the kernel to use updated packages.\n"
     ]
    }
   ],
   "source": [
    "pip install faiss-cpu"
   ]
  },
  {
   "cell_type": "code",
   "execution_count": 71,
   "id": "4a4729d5-b2d7-49cf-992b-46914cdca662",
   "metadata": {},
   "outputs": [],
   "source": [
    "import faiss\n",
    "\n",
    "X = tfidf.values.astype('float32')\n",
    "\n",
    "norms = np.linalg.norm(X, axis=1, keepdims=True)\n",
    "norms[norms == 0] = 1.0\n",
    "Xn = X / norms\n",
    "\n",
    "d = Xn.shape[1]\n",
    "index = faiss.IndexFlatIP(d)\n",
    "index.add(Xn)  # add all docs\n",
    "\n",
    "titles = np.array(tfidf.index.tolist())\n",
    "\n",
    "def faiss_neighbors(title, k=5):\n",
    "    i = np.where(titles == title)[0][0]\n",
    "    D, I = index.search(Xn[i:i+1], k+1)  # +1 to skip self\n",
    "    I = I[0][1:]\n",
    "    D = D[0][1:]\n",
    "    return list(zip(titles[I], D))"
   ]
  },
  {
   "cell_type": "code",
   "execution_count": 74,
   "id": "2e6be161-19bb-48a8-8f0c-b9bb5fb03a8b",
   "metadata": {},
   "outputs": [
    {
     "data": {
      "text/plain": [
       "[(np.str_(\"Grimms' Fairy Tales\"), np.float32(0.7156375)),\n",
       " (np.str_('Dracula'), np.float32(0.68367755)),\n",
       " (np.str_('Pride and Prejudice'), np.float32(0.59873056)),\n",
       " (np.str_('Wuthering Heights'), np.float32(0.58616704)),\n",
       " (np.str_('Moby Dick; Or, The Whale'), np.float32(0.5115375))]"
      ]
     },
     "execution_count": 74,
     "metadata": {},
     "output_type": "execute_result"
    }
   ],
   "source": [
    "faiss_neighbors(\"Frankenstein; Or, The Modern Prometheus\", k=5)"
   ]
  },
  {
   "cell_type": "markdown",
   "id": "b7038ae0-18cd-4482-a1c7-317f14915874",
   "metadata": {},
   "source": [
    "This project only includes a small database, hence Faiss works as well as the cosine numpy metric we performed previously and gives the same results."
   ]
  }
 ],
 "metadata": {
  "kernelspec": {
   "display_name": "Python 3 (ipykernel)",
   "language": "python",
   "name": "python3"
  },
  "language_info": {
   "codemirror_mode": {
    "name": "ipython",
    "version": 3
   },
   "file_extension": ".py",
   "mimetype": "text/x-python",
   "name": "python",
   "nbconvert_exporter": "python",
   "pygments_lexer": "ipython3",
   "version": "3.13.5"
  }
 },
 "nbformat": 4,
 "nbformat_minor": 5
}
