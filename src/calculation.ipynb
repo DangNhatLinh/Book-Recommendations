{
 "cells": [
  {
   "cell_type": "code",
   "execution_count": 24,
   "id": "e01f4dfc-bba0-424c-b409-6d5bfa12484d",
   "metadata": {},
   "outputs": [],
   "source": [
    "import numpy as np, pandas as pd\n",
    "from collections import Counter\n",
    "%run ./parsing.ipynb"
   ]
  },
  {
   "cell_type": "code",
   "execution_count": 25,
   "id": "be9b434b-9e5a-41a9-90f5-f1e9c36473b0",
   "metadata": {},
   "outputs": [
    {
     "data": {
      "text/plain": [
       "(11, 28668)"
      ]
     },
     "execution_count": 25,
     "metadata": {},
     "output_type": "execute_result"
    }
   ],
   "source": [
    "# vectorization\n",
    "\n",
    "rows = []\n",
    "for doc, toks in tokens_by_book.items():\n",
    "    for term, cnt in Counter(toks).items():\n",
    "        rows.append((doc, term, cnt))\n",
    "counts = pd.DataFrame(rows, columns=[\"doc\",\"term\",\"count\"])\n",
    "\n",
    "tf = counts.pivot_table(index=\"doc\", columns=\"term\", values=\"count\", fill_value=0).astype(float)\n",
    "tf = tf.div(tf.sum(axis=1).replace(0,1), axis=0)\n",
    "tf.shape\n",
    "# (11 books, 28668 vocabulary)"
   ]
  },
  {
   "cell_type": "code",
   "execution_count": 26,
   "id": "fd5e428b-7981-4ff1-93a3-75f82fa0cfcd",
   "metadata": {},
   "outputs": [
    {
     "data": {
      "text/plain": [
       "(11, 28668)"
      ]
     },
     "execution_count": 26,
     "metadata": {},
     "output_type": "execute_result"
    }
   ],
   "source": [
    "# IDF (smoothed): idf(t) = log( N / (1 + df(t)) )\n",
    "N  = tf.shape[0]\n",
    "df = (tf > 0).sum(axis=0).astype(float)\n",
    "idf = np.log(N / (1.0 + df))\n",
    "\n",
    "# TF-IDF\n",
    "tfidf = tf.mul(idf, axis=1)\n",
    "tfidf.shape"
   ]
  },
  {
   "cell_type": "code",
   "execution_count": 28,
   "id": "62ff6163-70f3-48c8-9275-452a57becee4",
   "metadata": {},
   "outputs": [
    {
     "name": "stdout",
     "output_type": "stream",
     "text": [
      "\n",
      "Top for topic: romance\n",
      "doc\n",
      "Alice's Adventures in Wonderland    -0.000011\n",
      "Moby Dick; Or, The Whale            -0.000012\n",
      "Beowulf- An Anglo-Saxon Epic Poem   -0.000012\n",
      "Grimms' Fairy Tales                 -0.000023\n",
      "Dracula                             -0.000031\n",
      "dtype: float64\n",
      "\n",
      "Top for topic: monster\n",
      "doc\n",
      "Beowulf- An Anglo-Saxon Epic Poem          0.000092\n",
      "Frankenstein; Or, The Modern Prometheus    0.000039\n",
      "Moby Dick; Or, The Whale                   0.000016\n",
      "Grimms' Fairy Tales                       -0.000002\n",
      "Nora's twin sister                        -0.000002\n",
      "dtype: float64\n",
      "\n",
      "Top for topic: sea\n",
      "doc\n",
      "Moby Dick; Or, The Whale                   0.002008\n",
      "Dracula                                    0.000028\n",
      "Nora's twin sister                         0.000019\n",
      "Grimms' Fairy Tales                        0.000005\n",
      "Frankenstein; Or, The Modern Prometheus    0.000004\n",
      "dtype: float64\n"
     ]
    }
   ],
   "source": [
    "topics = {\n",
    "    \"romance\": [\"love\",\"marriage\",\"sister\",\"heart\"],\n",
    "    \"monster\": [\"monster\",\"creature\",\"horror\",\"fear\"],\n",
    "    \"sea\": [\"whale\",\"sea\",\"ship\",\"captain\"],\n",
    "}\n",
    "def topic_scores(tfidf_df, topic_terms):\n",
    "    cols = [t for t in topic_terms if t in tfidf_df.columns]\n",
    "    return tfidf_df[cols].mean(axis=1) if cols else pd.Series(0.0, index=tfidf_df.index)\n",
    "\n",
    "for name, terms in topics.items():\n",
    "    print(f\"\\nTop for topic: {name}\")\n",
    "    print(topic_scores(tfidf, terms).sort_values(ascending=False).head(5))\n"
   ]
  },
  {
   "cell_type": "code",
   "execution_count": 32,
   "id": "e8849f47-2957-4cd5-8ae5-32ec9fcb7209",
   "metadata": {},
   "outputs": [
    {
     "name": "stdout",
     "output_type": "stream",
     "text": [
      "                                            doc          term  count\n",
      "0                      Moby Dick; Or, The Whale      pictures     15\n",
      "1                      Moby Dick; Or, The Whale            of   6598\n",
      "2                      Moby Dick; Or, The Whale       whaling    131\n",
      "3                      Moby Dick; Or, The Whale        scenes     12\n",
      "4                      Moby Dick; Or, The Whale         stone     20\n",
      "...                                         ...           ...    ...\n",
      "80513  Little Women; Or, Meg, Jo, Beth, and Amy          item      1\n",
      "80514  Little Women; Or, Meg, Jo, Beth, and Amy          html      1\n",
      "80515  Little Women; Or, Meg, Jo, Beth, and Amy       listing      1\n",
      "80516  Little Women; Or, Meg, Jo, Beth, and Amy    originally      1\n",
      "80517  Little Women; Or, Meg, Jo, Beth, and Amy  subsequently      1\n",
      "\n",
      "[80518 rows x 3 columns]\n"
     ]
    }
   ],
   "source": [
    "import numpy as np, pandas as pd\n",
    "from collections import Counter\n",
    "\n",
    "# tokens_by_book: {doc: [w1, w2, ...]}\n",
    "\n",
    "# 1) Long-form counts\n",
    "rows = []\n",
    "for doc, toks in tokens_by_book.items():\n",
    "    for term, cnt in Counter(toks).items():\n",
    "        rows.append((doc, term, cnt))\n",
    "counts = pd.DataFrame(rows, columns=[\"doc\",\"term\",\"count\"])\n",
    "\n",
    "print(counts)"
   ]
  },
  {
   "cell_type": "code",
   "execution_count": null,
   "id": "212e82de-aaf4-4109-836d-56bedda95f00",
   "metadata": {},
   "outputs": [],
   "source": []
  }
 ],
 "metadata": {
  "kernelspec": {
   "display_name": "Python 3 (ipykernel)",
   "language": "python",
   "name": "python3"
  },
  "language_info": {
   "codemirror_mode": {
    "name": "ipython",
    "version": 3
   },
   "file_extension": ".py",
   "mimetype": "text/x-python",
   "name": "python",
   "nbconvert_exporter": "python",
   "pygments_lexer": "ipython3",
   "version": "3.13.5"
  }
 },
 "nbformat": 4,
 "nbformat_minor": 5
}
