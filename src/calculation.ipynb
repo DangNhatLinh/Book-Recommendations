{
 "cells": [
  {
   "cell_type": "code",
   "execution_count": 1,
   "id": "e01f4dfc-bba0-424c-b409-6d5bfa12484d",
   "metadata": {},
   "outputs": [],
   "source": [
    "STOPWORDS = {\n",
    "    \"the\",\"and\",\"a\",\"to\",\"of\",\"in\",\"that\",\"it\",\"is\",\"for\",\"on\",\"as\",\n",
    "    \"with\",\"was\",\"be\",\"by\",\"he\",\"she\",\"you\",\"i\",\"are\",\"at\",\"from\"\n",
    "}\n",
    "\n",
    "def apply_stopwords(tok_list):\n",
    "    return [t for t in tok_list if t not in STOPWORDS]"
   ]
  },
  {
   "cell_type": "code",
   "execution_count": null,
   "id": "b6d2474a-65ba-4246-b83a-4243452c8f78",
   "metadata": {},
   "outputs": [],
   "source": []
  }
 ],
 "metadata": {
  "kernelspec": {
   "display_name": "Python 3 (ipykernel)",
   "language": "python",
   "name": "python3"
  },
  "language_info": {
   "codemirror_mode": {
    "name": "ipython",
    "version": 3
   },
   "file_extension": ".py",
   "mimetype": "text/x-python",
   "name": "python",
   "nbconvert_exporter": "python",
   "pygments_lexer": "ipython3",
   "version": "3.13.5"
  }
 },
 "nbformat": 4,
 "nbformat_minor": 5
}
