{
 "cells": [
  {
   "cell_type": "code",
   "execution_count": 24,
   "id": "e01f4dfc-bba0-424c-b409-6d5bfa12484d",
   "metadata": {},
   "outputs": [],
   "source": [
    "import numpy as np, pandas as pd\n",
    "from collections import Counter\n",
    "%run ./parsing.ipynb"
   ]
  },
  {
   "cell_type": "code",
   "execution_count": 34,
   "id": "be9b434b-9e5a-41a9-90f5-f1e9c36473b0",
   "metadata": {},
   "outputs": [
    {
     "data": {
      "text/plain": [
       "(11, 28668)"
      ]
     },
     "execution_count": 34,
     "metadata": {},
     "output_type": "execute_result"
    }
   ],
   "source": [
    "# vectorization = TF only\n",
    "\n",
    "rows = []\n",
    "for doc, toks in tokens_by_book.items():\n",
    "    for term, cnt in Counter(toks).items():\n",
    "        rows.append((doc, term, cnt))\n",
    "counts = pd.DataFrame(rows, columns=[\"doc\",\"term\",\"count\"])\n",
    "\n",
    "tf = counts.pivot_table(index=\"doc\", columns=\"term\", values=\"count\")\n",
    "tf = tf.div(tf.sum(axis=1).replace(0,1), axis=0)\n",
    "tf.shape\n",
    "# (11 books, 28668 vocabulary)"
   ]
  },
  {
   "cell_type": "code",
   "execution_count": 47,
   "id": "fd5e428b-7981-4ff1-93a3-75f82fa0cfcd",
   "metadata": {},
   "outputs": [
    {
     "data": {
      "text/plain": [
       "(11, 28668)"
      ]
     },
     "execution_count": 47,
     "metadata": {},
     "output_type": "execute_result"
    }
   ],
   "source": [
    "# IDF(t) = log(N / (1 + DF(t)))\n",
    "N  = tf.shape[0]\n",
    "df = (tf > 0).sum(axis=0)\n",
    "idf = np.log(N / (1.0 + df))\n",
    "\n",
    "# TF-IDF calc\n",
    "tfidf = tf.mul(idf, axis=1)\n",
    "tfidf.shape"
   ]
  },
  {
   "cell_type": "code",
   "execution_count": 60,
   "id": "62ff6163-70f3-48c8-9275-452a57becee4",
   "metadata": {},
   "outputs": [
    {
     "name": "stdout",
     "output_type": "stream",
     "text": [
      "\n",
      "Top of topic: romance\n",
      "doc\n",
      "Alice's Adventures in Wonderland            0.000500\n",
      "Beowulf- An Anglo-Saxon Epic Poem           0.000071\n",
      "Sense and Sensibility                       0.000033\n",
      "Little Women; Or, Meg, Jo, Beth, and Amy    0.000022\n",
      "Pride and Prejudice                         0.000022\n",
      "Frankenstein; Or, The Modern Prometheus     0.000017\n",
      "Moby Dick; Or, The Whale                    0.000009\n",
      "Grimms' Fairy Tales                         0.000008\n",
      "Wuthering Heights                           0.000007\n",
      "Dracula                                     0.000006\n",
      "dtype: float64\n",
      "\n",
      "Top of topic: monster\n",
      "doc\n",
      "Beowulf- An Anglo-Saxon Epic Poem           0.000204\n",
      "Moby Dick; Or, The Whale                    0.000066\n",
      "Frankenstein; Or, The Modern Prometheus     0.000057\n",
      "Grimms' Fairy Tales                         0.000050\n",
      "Wuthering Heights                           0.000025\n",
      "Dracula                                     0.000024\n",
      "Little Women; Or, Meg, Jo, Beth, and Amy    0.000008\n",
      "Nora's twin sister                          0.000003\n",
      "Sense and Sensibility                       0.000001\n",
      "Alice's Adventures in Wonderland            0.000001\n",
      "dtype: float64\n",
      "\n",
      "Top of topic: sea\n",
      "doc\n",
      "Moby Dick; Or, The Whale                    3.804174e-04\n",
      "Beowulf- An Anglo-Saxon Epic Poem           6.136519e-05\n",
      "Nora's twin sister                          4.133478e-05\n",
      "Dracula                                     1.757636e-05\n",
      "Frankenstein; Or, The Modern Prometheus     1.449105e-05\n",
      "Grimms' Fairy Tales                         5.258160e-06\n",
      "Little Women; Or, Meg, Jo, Beth, and Amy    4.951134e-06\n",
      "Pride and Prejudice                         2.761304e-06\n",
      "Sense and Sensibility                      -9.469074e-07\n",
      "Wuthering Heights                          -1.028232e-06\n",
      "dtype: float64\n",
      "\n",
      "Top of topic: family\n",
      "doc\n",
      "Beowulf- An Anglo-Saxon Epic Poem           3.431006e-05\n",
      "Pride and Prejudice                         1.637705e-05\n",
      "Little Women; Or, Meg, Jo, Beth, and Amy    8.396888e-06\n",
      "Nora's twin sister                          4.687293e-06\n",
      "Wuthering Heights                           3.700309e-06\n",
      "Moby Dick; Or, The Whale                    4.580158e-07\n",
      "Dracula                                    -8.980301e-07\n",
      "Frankenstein; Or, The Modern Prometheus    -1.877280e-06\n",
      "Alice's Adventures in Wonderland           -9.557489e-06\n",
      "Sense and Sensibility                      -1.356250e-05\n",
      "dtype: float64\n"
     ]
    }
   ],
   "source": [
    "topics = { #demo ONLY\n",
    "    \"romance\": [\"courtship\",\"suitor\",\"betrothal\",\"proposal\",\"engagement\",\"fiancé\",\"fiancée\", \"dowry\",\"estate\",\"heir\",\n",
    "                \"heiress\",\"governess\",\"gentleman\",\"lady\", \"propriety\",\"decorum\",\"reputation\",\"scandal\", \n",
    "                \"duke\",\"duchess\",\"earl\",\"viscount\", \"ballroom\",\"carriage\",\"parlor\",\"drawing-room\",\"letter\",\n",
    "                \"guardian\",\"ward\", \"affection\",\"ardor\",\"devotion\",\"fidelity\",\"virtue\",\"duty\",\"yearning\"],\n",
    "    \"monster\": [\"monster\",\"beast\",\"creature\",\"abomination\",\"wretch\",\"specter\",\"phantom\",\n",
    "                \"shade\",\"ghost\",\"ghoul\",\"demon\",\"devil\",\"daemon\",\"witch\",\"warlock\",\n",
    "                \"vampire\",\"werewolf\",\"lycanthrope\",\"ogre\",\"goblin\",\"harpy\",\"dragon\",\"chimera\",\n",
    "                \"kraken\",\"leviathan\",\"curse\",\"hex\",\"eldritch\",\"uncanny\",\"fang\",\"claw\"],\n",
    "    \"sea\": [\"sea\",\"ocean\",\"tide\",\"wave\",\"brine\",\"gale\",\"squall\",\"tempest\", \"maelstrom\",\"reef\",\n",
    "            \"shoal\",\"harbor\",\"lighthouse\",\"beacon\",\"mariner\",\"captain\", \"ship\",\"deck\",\"mast\",\n",
    "            \"sail\",\"rigging\",\"keel\",\"rudder\",\"helm\", \"cabin\",\"hold\",\"port\",\"starboard\",\"compass\",\"sextant\",\"harpoon\",\"whale\"],\n",
    "    \"family\": [\"father\",\"mother\",\"son\",\"daughter\",\"brother\",\"sister\",\"husband\",\"wife\", \"uncle\",\"aunt\",\n",
    "                \"cousin\",\"niece\",\"nephew\",\"patriarch\",\"matriarch\",\"household\", \"guardian\",\"ward\",\"heir\",\n",
    "                \"heiress\",\"lineage\",\"kin\",\"kinship\",\"bloodline\", \"inheritance\",\"entail\",\"namesake\",\n",
    "                \"orphan\",\"widow\",\"widower\",\"stepfather\",\"stepmother\"]\n",
    "\n",
    "}\n",
    "def topic_scores(tfidf_df, topic_terms):\n",
    "    cols = [t for t in topic_terms if t in tfidf_df.columns]\n",
    "    return tfidf_df[cols].mean(axis=1) if cols else pd.Series(0.0, index=tfidf_df.index)\n",
    "\n",
    "for name, terms in topics.items():\n",
    "    print(f\"\\nTop of topic: {name}\")\n",
    "    print(topic_scores(tfidf, terms).sort_values(ascending=False).head(10))\n"
   ]
  },
  {
   "cell_type": "markdown",
   "id": "9eded0a4-57da-48dc-8e03-a40a72791c9c",
   "metadata": {},
   "source": [
    "1. The machine cannot differentiate between synonyms.\n",
    "2. It has a disanvantage against poems, as they have a complicated structure that even confuse human if they do not analyze them correctly (e.g.: Beowulf gets grouped in romance just because the language is poetic and enigmatic.)\n",
    "3. In terms of unique first names, TF-I"
   ]
  },
  {
   "cell_type": "code",
   "execution_count": 58,
   "id": "212e82de-aaf4-4109-836d-56bedda95f00",
   "metadata": {},
   "outputs": [
    {
     "name": "stdout",
     "output_type": "stream",
     "text": [
      "TF: {'the': 0.06015670767428237, 'and': 0.03192735793790275, 'to': 0.026691564147627418, 'a': 0.023140011716461628, 'it': 0.02178529584065612, 'she': 0.020247510251903925, 'i': 0.01991798476859988, 'of': 0.018819566490919742, 'said': 0.016915641476274165, 'you': 0.015048330404217927}\n",
      "TFIDF: {'alice': 0.018886033417534913, 'hatter': 0.003495382731596068, 'gryphon': 0.0034329651828175676, 'dormouse': 0.0024967019511400487, 'duchess': 0.0019980186487064643, 'turtle': 0.001703243419064585, 'rabbit': 0.001472295158852438, 'caterpillar': 0.0013320124324709762, 'mock': 0.0009267416128299357, 'hare': 0.0008949245083220702}\n"
     ]
    }
   ],
   "source": [
    "def top_n(series, n=10): \n",
    "    return series.sort_values(ascending=False).head(n)\n",
    "doc = tf.index[0]\n",
    "print(\"TF:\", top_n(tf.loc[doc]).to_dict())\n",
    "print(\"TFIDF:\", top_n(tfidf.loc[doc]).to_dict())"
   ]
  },
  {
   "cell_type": "code",
   "execution_count": null,
   "id": "c25f9631-38e6-4fec-b14f-c80976a3ed53",
   "metadata": {},
   "outputs": [],
   "source": []
  }
 ],
 "metadata": {
  "kernelspec": {
   "display_name": "Python 3 (ipykernel)",
   "language": "python",
   "name": "python3"
  },
  "language_info": {
   "codemirror_mode": {
    "name": "ipython",
    "version": 3
   },
   "file_extension": ".py",
   "mimetype": "text/x-python",
   "name": "python",
   "nbconvert_exporter": "python",
   "pygments_lexer": "ipython3",
   "version": "3.13.5"
  }
 },
 "nbformat": 4,
 "nbformat_minor": 5
}
