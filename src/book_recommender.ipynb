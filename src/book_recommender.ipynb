{
 "cells": [
  {
   "cell_type": "code",
   "execution_count": 5,
   "id": "93c552aa-0827-450f-b80f-bb58ddccf126",
   "metadata": {},
   "outputs": [],
   "source": [
    "import pandas as pd\n",
    "import numpy as np\n",
    "from collections import Counter, defaultdict\n",
    "import re, math, os, glob"
   ]
  },
  {
   "cell_type": "code",
   "execution_count": 8,
   "id": "d884d8c5-ba49-43f7-9f7c-1d1835850cb4",
   "metadata": {},
   "outputs": [],
   "source": [
    "def loading_docs(pattern=\"data/*.txt\"): # reading files and stuff. all of my files in data have .txt at the end\n",
    "    docs = {}\n",
    "    \n",
    "    for path in glob.glob(pattern):\n",
    "        with open(path, \"r\", encoding=\"utf-8\") as file:\n",
    "            txt = file.read()\n",
    "        name = os.path.splitext(os.path.basename(path))[0]\n",
    "        docs[name] = txt\n",
    "    return docs"
   ]
  },
  {
   "cell_type": "code",
   "execution_count": 9,
   "id": "29f42dfc-18e0-4e75-a780-c7ad6bf90cd0",
   "metadata": {},
   "outputs": [],
   "source": [
    "def tokenize(text):\n",
    "    text.lower() # lowercase\n",
    "    text = re.sub(r\"(?s)\\*\\*\\* start of.*?\\*\\*\\*\", \"\", text) #strip header\n",
    "    text = re.sub(r\"(?s)\\*\\*\\* end of.*\", \"\", text) #strip footer\n",
    "    text = re.sub(r\"[^a-z0-9\\s']\", \" \", text) #keep alphanumeric chars\n",
    "\n",
    "    return re.findall(r\"[^a-z0-9\\s']+\", text)"
   ]
  },
  {
   "cell_type": "code",
   "execution_count": null,
   "id": "fef405b5-b04f-4727-8c3b-f553dc8a4b1f",
   "metadata": {},
   "outputs": [],
   "source": []
  }
 ],
 "metadata": {
  "kernelspec": {
   "display_name": "Python 3 (ipykernel)",
   "language": "python",
   "name": "python3"
  },
  "language_info": {
   "codemirror_mode": {
    "name": "ipython",
    "version": 3
   },
   "file_extension": ".py",
   "mimetype": "text/x-python",
   "name": "python",
   "nbconvert_exporter": "python",
   "pygments_lexer": "ipython3",
   "version": "3.13.5"
  }
 },
 "nbformat": 4,
 "nbformat_minor": 5
}
